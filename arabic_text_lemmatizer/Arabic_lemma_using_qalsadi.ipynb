{
 "cells": [
  {
   "cell_type": "code",
   "execution_count": 13,
   "id": "5d63e122",
   "metadata": {},
   "outputs": [
    {
     "name": "stdout",
     "output_type": "stream",
     "text": [
      "Requirement already satisfied: qalsadi in c:\\users\\administrator\\anaconda3\\lib\\site-packages (0.4.5)Note: you may need to restart the kernel to use updated packages.\n",
      "\n",
      "Requirement already satisfied: Arabic-Stopwords>=0.3 in c:\\users\\administrator\\anaconda3\\lib\\site-packages (from qalsadi) (0.3)\n",
      "Requirement already satisfied: six>=1.10.0 in c:\\users\\administrator\\anaconda3\\lib\\site-packages (from qalsadi) (1.15.0)\n",
      "Requirement already satisfied: tashaphyne>=0.3.4.1 in c:\\users\\administrator\\anaconda3\\lib\\site-packages (from qalsadi) (0.3.6)\n",
      "Requirement already satisfied: alyahmor>=0.1 in c:\\users\\administrator\\anaconda3\\lib\\site-packages (from qalsadi) (0.1.5)\n",
      "Requirement already satisfied: arramooz-pysqlite>=0.3 in c:\\users\\administrator\\anaconda3\\lib\\site-packages (from qalsadi) (0.3)\n",
      "Requirement already satisfied: pyarabic>=0.6.7 in c:\\users\\administrator\\anaconda3\\lib\\site-packages (from qalsadi) (0.6.14)\n",
      "Requirement already satisfied: naftawayh>=0.3 in c:\\users\\administrator\\anaconda3\\lib\\site-packages (from qalsadi) (0.4)\n",
      "Requirement already satisfied: libqutrub>=1.2.3 in c:\\users\\administrator\\anaconda3\\lib\\site-packages (from qalsadi) (1.2.4.1)\n",
      "Requirement already satisfied: future>=0.16.0 in c:\\users\\administrator\\anaconda3\\lib\\site-packages (from qalsadi) (0.18.2)\n",
      "Requirement already satisfied: pickledb>=0.9.2 in c:\\users\\administrator\\anaconda3\\lib\\site-packages (from qalsadi) (0.9.2)\n"
     ]
    }
   ],
   "source": [
    "pip install qalsadi  #package documentation ->  https://qalsadi.readthedocs.io/en/latest/README.html#"
   ]
  },
  {
   "cell_type": "code",
   "execution_count": 2,
   "id": "d11c4976",
   "metadata": {},
   "outputs": [],
   "source": [
    "import qalsadi.lemmatizer"
   ]
  },
  {
   "cell_type": "code",
   "execution_count": 18,
   "id": "442a1247",
   "metadata": {},
   "outputs": [],
   "source": [
    "text=\"\"\"اللُّغَة العَرَبِيّة هي أكثر اللغات السامية تحدثًا، وإحدى أكثر اللغات انتشاراً في العالم،\n",
    "يتحدثها أكثر من 467 مليون نسمة، ويتوزع متحدثوها في الوطن العربي،\n",
    "بالإضافة إلى العديد من المناطق الأخرى المجاورة كالأحواز وتركيا وتشاد ومالي والسنغال وإرتيريا وإثيوبيا وجنوب السودان وإيران.\n",
    "وبذلك فهي تحتل المركز الرابع أو الخامس من حيث اللغات الأكثر انتشارًا في العالم،\n",
    "وهي تحتل المركز الثالث تبعًا لعدد الدول التي تعترف بها كلغة رسمية؛ \n",
    "إذ تعترف بها 27 دولة كلغة رسمية، واللغة الرابعة من حيث عدد المستخدمين على الإنترنت.\n",
    "اللغةُ العربيةُ ذات أهمية قصوى لدى المسلمين، فهي عندَهم لغةٌ مقدسة إذ أنها لغة القرآن،\n",
    "وهي لغةُ الصلاة وأساسيةٌ في القيام بالعديد من العبادات والشعائرِ الإسلامية.\"\"\""
   ]
  },
  {
   "cell_type": "code",
   "execution_count": 19,
   "id": "1dd13e12",
   "metadata": {},
   "outputs": [],
   "source": [
    "lemm=qalsadi.lemmatizer.Lemmatizer()"
   ]
  },
  {
   "cell_type": "markdown",
   "id": "1f4421d3",
   "metadata": {},
   "source": [
    "# single word lemmatize"
   ]
  },
  {
   "cell_type": "code",
   "execution_count": 20,
   "id": "4035b3c3",
   "metadata": {},
   "outputs": [
    {
     "data": {
      "text/plain": [
       "'احتاج'"
      ]
     },
     "execution_count": 20,
     "metadata": {},
     "output_type": "execute_result"
    }
   ],
   "source": [
    "lemm.lemmatize(\"يحتاج\")"
   ]
  },
  {
   "cell_type": "markdown",
   "id": "ed47fe90",
   "metadata": {},
   "source": [
    "# text lemmatize"
   ]
  },
  {
   "cell_type": "code",
   "execution_count": 21,
   "id": "0d424355",
   "metadata": {},
   "outputs": [],
   "source": [
    "lemma_list=lemm.lemmatize_text(text)"
   ]
  },
  {
   "cell_type": "code",
   "execution_count": 22,
   "id": "cd3cbcbb",
   "metadata": {},
   "outputs": [
    {
     "name": "stdout",
     "output_type": "stream",
     "text": [
      "['لغة', 'عرب', 'هي', 'أكثر', 'لغة', 'سام', 'تحدث', '،', 'إحدى', 'أكثر', 'لغة', 'انتشار', 'في', 'عالم', '،\\n', 'يتحدثها', 'أكثر', 'من', '467', 'مليون', 'نسم', '،', 'توزع', 'متحدث', 'في', 'وطن', 'عرب', '،\\n', 'إضافة', 'إلى', 'عديد', 'من', 'مناطق', 'أخرى', 'مجاور', 'كالأحواز', 'ترك', 'شاد', 'مال', 'سنغال', 'وإرتيريا', 'وإثيوبيا', 'جنوب', 'سود', 'وإيران', '.\\n', 'ذلك', 'هي', 'حتل', 'مركز', 'رابع', 'أو', 'خامس', 'من', 'حيث', 'لغة', 'أكثر', 'انتشار', 'في', 'عالم', '،\\n', 'هي', 'حتل', 'مركز', 'ثالث', 'تبع', 'عدد', 'دول', 'التي', 'اعترف', 'بها', 'لغة', 'رسم', '؛\\n', 'إذ', 'اعترف', 'بها', '27', 'دول', 'لغة', 'رسم', '،', 'لغة', 'رابع', 'من', 'حيث', 'عدد', 'مستخدم', 'على', 'الإنترنت', '.\\n', 'لغة', 'عرب', 'ذات', 'هم', 'قصوى', 'لدى', 'مسلم', '،', 'هي', 'عند', 'لغة', 'مقدس', 'إذ', 'أن', 'لغة', 'قرآن', '،\\n', 'هي', 'لغة', 'صلاة', 'أساس', 'في', 'قيام', 'عديد', 'من', 'عباد', 'شعائر', 'إسلام', '.']\n"
     ]
    }
   ],
   "source": [
    "print(lemma_list)"
   ]
  }
 ],
 "metadata": {
  "kernelspec": {
   "display_name": "Python 3",
   "language": "python",
   "name": "python3"
  },
  "language_info": {
   "codemirror_mode": {
    "name": "ipython",
    "version": 3
   },
   "file_extension": ".py",
   "mimetype": "text/x-python",
   "name": "python",
   "nbconvert_exporter": "python",
   "pygments_lexer": "ipython3",
   "version": "3.8.8"
  }
 },
 "nbformat": 4,
 "nbformat_minor": 5
}
